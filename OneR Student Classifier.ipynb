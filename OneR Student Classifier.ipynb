{
 "cells": [
  {
   "cell_type": "markdown",
   "metadata": {},
   "source": [
    "# Student Performance Classifier (Project 1)"
   ]
  },
  {
   "cell_type": "markdown",
   "metadata": {},
   "source": [
    "##### OneR algorithm\n",
    "-Nrepesh Joshi"
   ]
  },
  {
   "cell_type": "markdown",
   "metadata": {},
   "source": [
    "The OneR algorithm is quite simple but can be quite effective, showing the power of using even basic statistics in many applications. The algorithm is:\n",
    "\n",
    "* For each variable\n",
    "    * For each value of the variable\n",
    "        * The prediction based on this variable goes the most frequent class\n",
    "        * Compute the error of this prediction\n",
    "    * Sum the prediction errors for all values of the variable\n",
    "* Use the variable with the lowest error"
   ]
  },
  {
   "cell_type": "markdown",
   "metadata": {},
   "source": [
    "### Data Set Information:\n",
    "\n",
    "This data approach student achievement in secondary education of two Portuguese schools. The data attributes include student grades, demographic, social and school related features) and it was collected by using school reports and questionnaires. Two datasets are provided regarding the performance in two distinct subjects: Mathematics (mat) and Portuguese language (por). In [Cortez and Silva, 2008], the two datasets were modeled under binary/five-level classification and regression tasks. Important note: the target attribute G3 has a strong correlation with attributes G2 and G1. This occurs because G3 is the final year grade (issued at the 3rd period), while G1 and G2 correspond to the 1st and 2nd period grades. It is more difficult to predict G3 without G2 and G1, but such prediction is much more useful (see paper source for more details).\n",
    "\n",
    "P. Cortez and A. Silva. Using Data Mining to Predict Secondary School Student Performance. In A. Brito and J. Teixeira Eds., Proceedings of 5th FUture BUsiness TEChnology Conference (FUBUTEC 2008) pp. 5-12, Porto, Portugal, April, 2008, EUROSIS, ISBN 978-9077381-39-7.\n",
    "\n",
    "Attribute Information:\n",
    "\n",
    "### Attributes for both student-mat.csv (Math course) and student-por.csv (Portuguese language course) datasets:\n",
    "1 school - student's school (binary: 'GP' - Gabriel Pereira or 'MS' - Mousinho da Silveira)<br>\n",
    "2 sex - student's sex (binary: 'F' - female or 'M' - male)<br>\n",
    "3 age - student's age (numeric: from 15 to 22)<br>\n",
    "4 address - student's home address type (binary: 'U' - urban or 'R' - rural)<br>\n",
    "5 famsize - family size (binary: 'LE3' - less or equal to 3 or 'GT3' - greater than 3)<br>\n",
    "6 Pstatus - parent's cohabitation status (binary: 'T' - living together or 'A' - apart)<br>\n",
    "7 Medu - mother's education (numeric: 0 - none, 1 - primary education (4th grade), 2 â€“ 5th to 9th grade, 3 â€“ secondary \n",
    "education or 4 â€“ higher education)<br>\n",
    "8 Fedu - father's education (numeric: 0 - none, 1 - primary education (4th grade), 2 â€“ 5th to 9th grade, 3 â€“ secondary education or 4 â€“ higher education)<br>\n",
    "9 Mjob - mother's job (nominal: 'teacher', 'health' care related, civil 'services' (e.g. administrative or police), 'at_home' or 'other')<br>\n",
    "10 Fjob - father's job (nominal: 'teacher', 'health' care related, civil 'services' (e.g. administrative or police), 'at_home' or 'other')<br>\n",
    "11 reason - reason to choose this school (nominal: close to 'home', school 'reputation', 'course' preference or 'other')<br>\n",
    "12 guardian - student's guardian (nominal: 'mother', 'father' or 'other')<br>\n",
    "13 traveltime - home to school travel time (numeric: 1 - <15 min., 2 - 15 to 30 min., 3 - 30 min. to 1 hour, or 4 - >1 hour)<br>\n",
    "14 studytime - weekly study time (numeric: 1 - <2 hours, 2 - 2 to 5 hours, 3 - 5 to 10 hours, or 4 - >10 hours)<br>\n",
    "15 failures - number of past class failures (numeric: n if 1<=n<3, else 4)<br>\n",
    "16 schoolsup - extra educational support (binary: yes or no)<br>\n",
    "17 famsup - family educational support (binary: yes or no)<br>\n",
    "18 paid - extra paid classes within the course subject (Math or Portuguese) (binary: yes or no)<br>\n",
    "19 activities - extra-curricular activities (binary: yes or no)<br>\n",
    "20 nursery - attended nursery school (binary: yes or no)<br>\n",
    "21 higher - wants to take higher education (binary: yes or no)<br>\n",
    "22 internet - Internet access at home (binary: yes or no)<br>\n",
    "23 romantic - with a romantic relationship (binary: yes or no)<br>\n",
    "24 famrel - quality of family relationships (numeric: from 1 - very bad to 5 - excellent)<br>\n",
    "25 freetime - free time after school (numeric: from 1 - very low to 5 - very high)<br>\n",
    "26 goout - going out with friends (numeric: from 1 - very low to 5 - very high)<br>\n",
    "27 Dalc - workday alcohol consumption (numeric: from 1 - very low to 5 - very high)<br>\n",
    "28 Walc - weekend alcohol consumption (numeric: from 1 - very low to 5 - very high)<br>\n",
    "29 health - current health status (numeric: from 1 - very bad to 5 - very good)<br>\n",
    "30 absences - number of school absences (numeric: from 0 to 93)<br>\n",
    "\n",
    "##### these grades are related with the course subject, Math or Portuguese:\n",
    "31 G1 - first period grade (numeric: from 0 to 20)<br>\n",
    "31 G2 - second period grade (numeric: from 0 to 20)<br>\n",
    "32 G3 - final grade (numeric: from 0 to 20, output target)\n",
    "\n"
   ]
  },
  {
   "cell_type": "markdown",
   "metadata": {},
   "source": [
    "## Exploratory Data Analysis "
   ]
  },
  {
   "cell_type": "code",
   "execution_count": 125,
   "metadata": {},
   "outputs": [],
   "source": [
    "import pandas as pd\n",
    "import numpy as np\n",
    "import matplotlib.pyplot as plt\n",
    "import seaborn as sns"
   ]
  },
  {
   "cell_type": "code",
   "execution_count": 126,
   "metadata": {},
   "outputs": [],
   "source": [
    "df = pd.read_csv(\"student-por.csv\",sep=';')"
   ]
  },
  {
   "cell_type": "code",
   "execution_count": 127,
   "metadata": {},
   "outputs": [
    {
     "data": {
      "text/html": [
       "<div>\n",
       "<style scoped>\n",
       "    .dataframe tbody tr th:only-of-type {\n",
       "        vertical-align: middle;\n",
       "    }\n",
       "\n",
       "    .dataframe tbody tr th {\n",
       "        vertical-align: top;\n",
       "    }\n",
       "\n",
       "    .dataframe thead th {\n",
       "        text-align: right;\n",
       "    }\n",
       "</style>\n",
       "<table border=\"1\" class=\"dataframe\">\n",
       "  <thead>\n",
       "    <tr style=\"text-align: right;\">\n",
       "      <th></th>\n",
       "      <th>school</th>\n",
       "      <th>sex</th>\n",
       "      <th>age</th>\n",
       "      <th>address</th>\n",
       "      <th>famsize</th>\n",
       "      <th>Pstatus</th>\n",
       "      <th>Medu</th>\n",
       "      <th>Fedu</th>\n",
       "      <th>Mjob</th>\n",
       "      <th>Fjob</th>\n",
       "      <th>...</th>\n",
       "      <th>internet</th>\n",
       "      <th>romantic</th>\n",
       "      <th>famrel</th>\n",
       "      <th>freetime</th>\n",
       "      <th>goout</th>\n",
       "      <th>Dalc</th>\n",
       "      <th>Walc</th>\n",
       "      <th>health</th>\n",
       "      <th>absences</th>\n",
       "      <th>G3</th>\n",
       "    </tr>\n",
       "  </thead>\n",
       "  <tbody>\n",
       "    <tr>\n",
       "      <th>0</th>\n",
       "      <td>GP</td>\n",
       "      <td>F</td>\n",
       "      <td>18</td>\n",
       "      <td>U</td>\n",
       "      <td>GT3</td>\n",
       "      <td>A</td>\n",
       "      <td>4</td>\n",
       "      <td>4</td>\n",
       "      <td>at_home</td>\n",
       "      <td>teacher</td>\n",
       "      <td>...</td>\n",
       "      <td>no</td>\n",
       "      <td>no</td>\n",
       "      <td>4</td>\n",
       "      <td>3</td>\n",
       "      <td>4</td>\n",
       "      <td>1</td>\n",
       "      <td>1</td>\n",
       "      <td>3</td>\n",
       "      <td>4</td>\n",
       "      <td>11</td>\n",
       "    </tr>\n",
       "    <tr>\n",
       "      <th>1</th>\n",
       "      <td>GP</td>\n",
       "      <td>F</td>\n",
       "      <td>17</td>\n",
       "      <td>U</td>\n",
       "      <td>GT3</td>\n",
       "      <td>T</td>\n",
       "      <td>1</td>\n",
       "      <td>1</td>\n",
       "      <td>at_home</td>\n",
       "      <td>other</td>\n",
       "      <td>...</td>\n",
       "      <td>yes</td>\n",
       "      <td>no</td>\n",
       "      <td>5</td>\n",
       "      <td>3</td>\n",
       "      <td>3</td>\n",
       "      <td>1</td>\n",
       "      <td>1</td>\n",
       "      <td>3</td>\n",
       "      <td>2</td>\n",
       "      <td>11</td>\n",
       "    </tr>\n",
       "    <tr>\n",
       "      <th>2</th>\n",
       "      <td>GP</td>\n",
       "      <td>F</td>\n",
       "      <td>15</td>\n",
       "      <td>U</td>\n",
       "      <td>LE3</td>\n",
       "      <td>T</td>\n",
       "      <td>1</td>\n",
       "      <td>1</td>\n",
       "      <td>at_home</td>\n",
       "      <td>other</td>\n",
       "      <td>...</td>\n",
       "      <td>yes</td>\n",
       "      <td>no</td>\n",
       "      <td>4</td>\n",
       "      <td>3</td>\n",
       "      <td>2</td>\n",
       "      <td>2</td>\n",
       "      <td>3</td>\n",
       "      <td>3</td>\n",
       "      <td>6</td>\n",
       "      <td>12</td>\n",
       "    </tr>\n",
       "    <tr>\n",
       "      <th>3</th>\n",
       "      <td>GP</td>\n",
       "      <td>F</td>\n",
       "      <td>15</td>\n",
       "      <td>U</td>\n",
       "      <td>GT3</td>\n",
       "      <td>T</td>\n",
       "      <td>4</td>\n",
       "      <td>2</td>\n",
       "      <td>health</td>\n",
       "      <td>services</td>\n",
       "      <td>...</td>\n",
       "      <td>yes</td>\n",
       "      <td>yes</td>\n",
       "      <td>3</td>\n",
       "      <td>2</td>\n",
       "      <td>2</td>\n",
       "      <td>1</td>\n",
       "      <td>1</td>\n",
       "      <td>5</td>\n",
       "      <td>0</td>\n",
       "      <td>14</td>\n",
       "    </tr>\n",
       "    <tr>\n",
       "      <th>4</th>\n",
       "      <td>GP</td>\n",
       "      <td>F</td>\n",
       "      <td>16</td>\n",
       "      <td>U</td>\n",
       "      <td>GT3</td>\n",
       "      <td>T</td>\n",
       "      <td>3</td>\n",
       "      <td>3</td>\n",
       "      <td>other</td>\n",
       "      <td>other</td>\n",
       "      <td>...</td>\n",
       "      <td>no</td>\n",
       "      <td>no</td>\n",
       "      <td>4</td>\n",
       "      <td>3</td>\n",
       "      <td>2</td>\n",
       "      <td>1</td>\n",
       "      <td>2</td>\n",
       "      <td>5</td>\n",
       "      <td>0</td>\n",
       "      <td>13</td>\n",
       "    </tr>\n",
       "  </tbody>\n",
       "</table>\n",
       "<p>5 rows × 31 columns</p>\n",
       "</div>"
      ],
      "text/plain": [
       "  school sex  age address famsize Pstatus  Medu  Fedu     Mjob      Fjob  ...  \\\n",
       "0     GP   F   18       U     GT3       A     4     4  at_home   teacher  ...   \n",
       "1     GP   F   17       U     GT3       T     1     1  at_home     other  ...   \n",
       "2     GP   F   15       U     LE3       T     1     1  at_home     other  ...   \n",
       "3     GP   F   15       U     GT3       T     4     2   health  services  ...   \n",
       "4     GP   F   16       U     GT3       T     3     3    other     other  ...   \n",
       "\n",
       "  internet romantic  famrel  freetime  goout Dalc Walc health absences  G3  \n",
       "0       no       no       4         3      4    1    1      3        4  11  \n",
       "1      yes       no       5         3      3    1    1      3        2  11  \n",
       "2      yes       no       4         3      2    2    3      3        6  12  \n",
       "3      yes      yes       3         2      2    1    1      5        0  14  \n",
       "4       no       no       4         3      2    1    2      5        0  13  \n",
       "\n",
       "[5 rows x 31 columns]"
      ]
     },
     "execution_count": 127,
     "metadata": {},
     "output_type": "execute_result"
    }
   ],
   "source": [
    "df = df.drop(columns = ['G2','G1'], axis = 1) # Remove the other grades as we will not use them to train the model \n",
    "df.head()"
   ]
  },
  {
   "cell_type": "code",
   "execution_count": 128,
   "metadata": {},
   "outputs": [
    {
     "name": "stdout",
     "output_type": "stream",
     "text": [
      "<class 'pandas.core.frame.DataFrame'>\n",
      "RangeIndex: 649 entries, 0 to 648\n",
      "Data columns (total 31 columns):\n",
      " #   Column      Non-Null Count  Dtype \n",
      "---  ------      --------------  ----- \n",
      " 0   school      649 non-null    object\n",
      " 1   sex         649 non-null    object\n",
      " 2   age         649 non-null    int64 \n",
      " 3   address     649 non-null    object\n",
      " 4   famsize     649 non-null    object\n",
      " 5   Pstatus     649 non-null    object\n",
      " 6   Medu        649 non-null    int64 \n",
      " 7   Fedu        649 non-null    int64 \n",
      " 8   Mjob        649 non-null    object\n",
      " 9   Fjob        649 non-null    object\n",
      " 10  reason      649 non-null    object\n",
      " 11  guardian    649 non-null    object\n",
      " 12  traveltime  649 non-null    int64 \n",
      " 13  studytime   649 non-null    int64 \n",
      " 14  failures    649 non-null    int64 \n",
      " 15  schoolsup   649 non-null    object\n",
      " 16  famsup      649 non-null    object\n",
      " 17  paid        649 non-null    object\n",
      " 18  activities  649 non-null    object\n",
      " 19  nursery     649 non-null    object\n",
      " 20  higher      649 non-null    object\n",
      " 21  internet    649 non-null    object\n",
      " 22  romantic    649 non-null    object\n",
      " 23  famrel      649 non-null    int64 \n",
      " 24  freetime    649 non-null    int64 \n",
      " 25  goout       649 non-null    int64 \n",
      " 26  Dalc        649 non-null    int64 \n",
      " 27  Walc        649 non-null    int64 \n",
      " 28  health      649 non-null    int64 \n",
      " 29  absences    649 non-null    int64 \n",
      " 30  G3          649 non-null    int64 \n",
      "dtypes: int64(14), object(17)\n",
      "memory usage: 157.3+ KB\n"
     ]
    }
   ],
   "source": [
    "df.info()"
   ]
  },
  {
   "cell_type": "code",
   "execution_count": 129,
   "metadata": {},
   "outputs": [
    {
     "data": {
      "text/html": [
       "<div>\n",
       "<style scoped>\n",
       "    .dataframe tbody tr th:only-of-type {\n",
       "        vertical-align: middle;\n",
       "    }\n",
       "\n",
       "    .dataframe tbody tr th {\n",
       "        vertical-align: top;\n",
       "    }\n",
       "\n",
       "    .dataframe thead th {\n",
       "        text-align: right;\n",
       "    }\n",
       "</style>\n",
       "<table border=\"1\" class=\"dataframe\">\n",
       "  <thead>\n",
       "    <tr style=\"text-align: right;\">\n",
       "      <th></th>\n",
       "      <th>age</th>\n",
       "      <th>Medu</th>\n",
       "      <th>Fedu</th>\n",
       "      <th>traveltime</th>\n",
       "      <th>studytime</th>\n",
       "      <th>failures</th>\n",
       "      <th>famrel</th>\n",
       "      <th>freetime</th>\n",
       "      <th>goout</th>\n",
       "      <th>Dalc</th>\n",
       "      <th>Walc</th>\n",
       "      <th>health</th>\n",
       "      <th>absences</th>\n",
       "      <th>G3</th>\n",
       "    </tr>\n",
       "  </thead>\n",
       "  <tbody>\n",
       "    <tr>\n",
       "      <th>count</th>\n",
       "      <td>649.000000</td>\n",
       "      <td>649.000000</td>\n",
       "      <td>649.000000</td>\n",
       "      <td>649.000000</td>\n",
       "      <td>649.000000</td>\n",
       "      <td>649.000000</td>\n",
       "      <td>649.000000</td>\n",
       "      <td>649.000000</td>\n",
       "      <td>649.000000</td>\n",
       "      <td>649.000000</td>\n",
       "      <td>649.000000</td>\n",
       "      <td>649.000000</td>\n",
       "      <td>649.000000</td>\n",
       "      <td>649.000000</td>\n",
       "    </tr>\n",
       "    <tr>\n",
       "      <th>mean</th>\n",
       "      <td>16.744222</td>\n",
       "      <td>2.514638</td>\n",
       "      <td>2.306626</td>\n",
       "      <td>1.568567</td>\n",
       "      <td>1.930663</td>\n",
       "      <td>0.221880</td>\n",
       "      <td>3.930663</td>\n",
       "      <td>3.180277</td>\n",
       "      <td>3.184900</td>\n",
       "      <td>1.502311</td>\n",
       "      <td>2.280431</td>\n",
       "      <td>3.536210</td>\n",
       "      <td>3.659476</td>\n",
       "      <td>11.906009</td>\n",
       "    </tr>\n",
       "    <tr>\n",
       "      <th>std</th>\n",
       "      <td>1.218138</td>\n",
       "      <td>1.134552</td>\n",
       "      <td>1.099931</td>\n",
       "      <td>0.748660</td>\n",
       "      <td>0.829510</td>\n",
       "      <td>0.593235</td>\n",
       "      <td>0.955717</td>\n",
       "      <td>1.051093</td>\n",
       "      <td>1.175766</td>\n",
       "      <td>0.924834</td>\n",
       "      <td>1.284380</td>\n",
       "      <td>1.446259</td>\n",
       "      <td>4.640759</td>\n",
       "      <td>3.230656</td>\n",
       "    </tr>\n",
       "    <tr>\n",
       "      <th>min</th>\n",
       "      <td>15.000000</td>\n",
       "      <td>0.000000</td>\n",
       "      <td>0.000000</td>\n",
       "      <td>1.000000</td>\n",
       "      <td>1.000000</td>\n",
       "      <td>0.000000</td>\n",
       "      <td>1.000000</td>\n",
       "      <td>1.000000</td>\n",
       "      <td>1.000000</td>\n",
       "      <td>1.000000</td>\n",
       "      <td>1.000000</td>\n",
       "      <td>1.000000</td>\n",
       "      <td>0.000000</td>\n",
       "      <td>0.000000</td>\n",
       "    </tr>\n",
       "    <tr>\n",
       "      <th>25%</th>\n",
       "      <td>16.000000</td>\n",
       "      <td>2.000000</td>\n",
       "      <td>1.000000</td>\n",
       "      <td>1.000000</td>\n",
       "      <td>1.000000</td>\n",
       "      <td>0.000000</td>\n",
       "      <td>4.000000</td>\n",
       "      <td>3.000000</td>\n",
       "      <td>2.000000</td>\n",
       "      <td>1.000000</td>\n",
       "      <td>1.000000</td>\n",
       "      <td>2.000000</td>\n",
       "      <td>0.000000</td>\n",
       "      <td>10.000000</td>\n",
       "    </tr>\n",
       "    <tr>\n",
       "      <th>50%</th>\n",
       "      <td>17.000000</td>\n",
       "      <td>2.000000</td>\n",
       "      <td>2.000000</td>\n",
       "      <td>1.000000</td>\n",
       "      <td>2.000000</td>\n",
       "      <td>0.000000</td>\n",
       "      <td>4.000000</td>\n",
       "      <td>3.000000</td>\n",
       "      <td>3.000000</td>\n",
       "      <td>1.000000</td>\n",
       "      <td>2.000000</td>\n",
       "      <td>4.000000</td>\n",
       "      <td>2.000000</td>\n",
       "      <td>12.000000</td>\n",
       "    </tr>\n",
       "    <tr>\n",
       "      <th>75%</th>\n",
       "      <td>18.000000</td>\n",
       "      <td>4.000000</td>\n",
       "      <td>3.000000</td>\n",
       "      <td>2.000000</td>\n",
       "      <td>2.000000</td>\n",
       "      <td>0.000000</td>\n",
       "      <td>5.000000</td>\n",
       "      <td>4.000000</td>\n",
       "      <td>4.000000</td>\n",
       "      <td>2.000000</td>\n",
       "      <td>3.000000</td>\n",
       "      <td>5.000000</td>\n",
       "      <td>6.000000</td>\n",
       "      <td>14.000000</td>\n",
       "    </tr>\n",
       "    <tr>\n",
       "      <th>max</th>\n",
       "      <td>22.000000</td>\n",
       "      <td>4.000000</td>\n",
       "      <td>4.000000</td>\n",
       "      <td>4.000000</td>\n",
       "      <td>4.000000</td>\n",
       "      <td>3.000000</td>\n",
       "      <td>5.000000</td>\n",
       "      <td>5.000000</td>\n",
       "      <td>5.000000</td>\n",
       "      <td>5.000000</td>\n",
       "      <td>5.000000</td>\n",
       "      <td>5.000000</td>\n",
       "      <td>32.000000</td>\n",
       "      <td>19.000000</td>\n",
       "    </tr>\n",
       "  </tbody>\n",
       "</table>\n",
       "</div>"
      ],
      "text/plain": [
       "              age        Medu        Fedu  traveltime   studytime    failures  \\\n",
       "count  649.000000  649.000000  649.000000  649.000000  649.000000  649.000000   \n",
       "mean    16.744222    2.514638    2.306626    1.568567    1.930663    0.221880   \n",
       "std      1.218138    1.134552    1.099931    0.748660    0.829510    0.593235   \n",
       "min     15.000000    0.000000    0.000000    1.000000    1.000000    0.000000   \n",
       "25%     16.000000    2.000000    1.000000    1.000000    1.000000    0.000000   \n",
       "50%     17.000000    2.000000    2.000000    1.000000    2.000000    0.000000   \n",
       "75%     18.000000    4.000000    3.000000    2.000000    2.000000    0.000000   \n",
       "max     22.000000    4.000000    4.000000    4.000000    4.000000    3.000000   \n",
       "\n",
       "           famrel    freetime       goout        Dalc        Walc      health  \\\n",
       "count  649.000000  649.000000  649.000000  649.000000  649.000000  649.000000   \n",
       "mean     3.930663    3.180277    3.184900    1.502311    2.280431    3.536210   \n",
       "std      0.955717    1.051093    1.175766    0.924834    1.284380    1.446259   \n",
       "min      1.000000    1.000000    1.000000    1.000000    1.000000    1.000000   \n",
       "25%      4.000000    3.000000    2.000000    1.000000    1.000000    2.000000   \n",
       "50%      4.000000    3.000000    3.000000    1.000000    2.000000    4.000000   \n",
       "75%      5.000000    4.000000    4.000000    2.000000    3.000000    5.000000   \n",
       "max      5.000000    5.000000    5.000000    5.000000    5.000000    5.000000   \n",
       "\n",
       "         absences          G3  \n",
       "count  649.000000  649.000000  \n",
       "mean     3.659476   11.906009  \n",
       "std      4.640759    3.230656  \n",
       "min      0.000000    0.000000  \n",
       "25%      0.000000   10.000000  \n",
       "50%      2.000000   12.000000  \n",
       "75%      6.000000   14.000000  \n",
       "max     32.000000   19.000000  "
      ]
     },
     "execution_count": 129,
     "metadata": {},
     "output_type": "execute_result"
    }
   ],
   "source": [
    "df.describe()"
   ]
  },
  {
   "cell_type": "code",
   "execution_count": 130,
   "metadata": {},
   "outputs": [
    {
     "data": {
      "text/html": [
       "<div>\n",
       "<style scoped>\n",
       "    .dataframe tbody tr th:only-of-type {\n",
       "        vertical-align: middle;\n",
       "    }\n",
       "\n",
       "    .dataframe tbody tr th {\n",
       "        vertical-align: top;\n",
       "    }\n",
       "\n",
       "    .dataframe thead th {\n",
       "        text-align: right;\n",
       "    }\n",
       "</style>\n",
       "<table border=\"1\" class=\"dataframe\">\n",
       "  <thead>\n",
       "    <tr style=\"text-align: right;\">\n",
       "      <th></th>\n",
       "      <th>age</th>\n",
       "      <th>Medu</th>\n",
       "      <th>Fedu</th>\n",
       "      <th>traveltime</th>\n",
       "      <th>studytime</th>\n",
       "      <th>failures</th>\n",
       "      <th>famrel</th>\n",
       "      <th>freetime</th>\n",
       "      <th>goout</th>\n",
       "      <th>Dalc</th>\n",
       "      <th>Walc</th>\n",
       "      <th>health</th>\n",
       "      <th>absences</th>\n",
       "      <th>G3</th>\n",
       "    </tr>\n",
       "  </thead>\n",
       "  <tbody>\n",
       "    <tr>\n",
       "      <th>age</th>\n",
       "      <td>1.000000</td>\n",
       "      <td>-0.107832</td>\n",
       "      <td>-0.121050</td>\n",
       "      <td>0.034490</td>\n",
       "      <td>-0.008415</td>\n",
       "      <td>0.319968</td>\n",
       "      <td>-0.020559</td>\n",
       "      <td>-0.004910</td>\n",
       "      <td>0.112805</td>\n",
       "      <td>0.134768</td>\n",
       "      <td>0.086357</td>\n",
       "      <td>-0.008750</td>\n",
       "      <td>0.149998</td>\n",
       "      <td>-0.106505</td>\n",
       "    </tr>\n",
       "    <tr>\n",
       "      <th>Medu</th>\n",
       "      <td>-0.107832</td>\n",
       "      <td>1.000000</td>\n",
       "      <td>0.647477</td>\n",
       "      <td>-0.265079</td>\n",
       "      <td>0.097006</td>\n",
       "      <td>-0.172210</td>\n",
       "      <td>0.024421</td>\n",
       "      <td>-0.019686</td>\n",
       "      <td>0.009536</td>\n",
       "      <td>-0.007018</td>\n",
       "      <td>-0.019766</td>\n",
       "      <td>0.004614</td>\n",
       "      <td>-0.008577</td>\n",
       "      <td>0.240151</td>\n",
       "    </tr>\n",
       "    <tr>\n",
       "      <th>Fedu</th>\n",
       "      <td>-0.121050</td>\n",
       "      <td>0.647477</td>\n",
       "      <td>1.000000</td>\n",
       "      <td>-0.208288</td>\n",
       "      <td>0.050400</td>\n",
       "      <td>-0.165915</td>\n",
       "      <td>0.020256</td>\n",
       "      <td>0.006841</td>\n",
       "      <td>0.027690</td>\n",
       "      <td>0.000061</td>\n",
       "      <td>0.038445</td>\n",
       "      <td>0.044910</td>\n",
       "      <td>0.029859</td>\n",
       "      <td>0.211800</td>\n",
       "    </tr>\n",
       "    <tr>\n",
       "      <th>traveltime</th>\n",
       "      <td>0.034490</td>\n",
       "      <td>-0.265079</td>\n",
       "      <td>-0.208288</td>\n",
       "      <td>1.000000</td>\n",
       "      <td>-0.063154</td>\n",
       "      <td>0.097730</td>\n",
       "      <td>-0.009521</td>\n",
       "      <td>0.000937</td>\n",
       "      <td>0.057454</td>\n",
       "      <td>0.092824</td>\n",
       "      <td>0.057007</td>\n",
       "      <td>-0.048261</td>\n",
       "      <td>-0.008149</td>\n",
       "      <td>-0.127173</td>\n",
       "    </tr>\n",
       "    <tr>\n",
       "      <th>studytime</th>\n",
       "      <td>-0.008415</td>\n",
       "      <td>0.097006</td>\n",
       "      <td>0.050400</td>\n",
       "      <td>-0.063154</td>\n",
       "      <td>1.000000</td>\n",
       "      <td>-0.147441</td>\n",
       "      <td>-0.004127</td>\n",
       "      <td>-0.068829</td>\n",
       "      <td>-0.075442</td>\n",
       "      <td>-0.137585</td>\n",
       "      <td>-0.214925</td>\n",
       "      <td>-0.056433</td>\n",
       "      <td>-0.118389</td>\n",
       "      <td>0.249789</td>\n",
       "    </tr>\n",
       "    <tr>\n",
       "      <th>failures</th>\n",
       "      <td>0.319968</td>\n",
       "      <td>-0.172210</td>\n",
       "      <td>-0.165915</td>\n",
       "      <td>0.097730</td>\n",
       "      <td>-0.147441</td>\n",
       "      <td>1.000000</td>\n",
       "      <td>-0.062645</td>\n",
       "      <td>0.108995</td>\n",
       "      <td>0.045078</td>\n",
       "      <td>0.105949</td>\n",
       "      <td>0.082266</td>\n",
       "      <td>0.035588</td>\n",
       "      <td>0.122779</td>\n",
       "      <td>-0.393316</td>\n",
       "    </tr>\n",
       "    <tr>\n",
       "      <th>famrel</th>\n",
       "      <td>-0.020559</td>\n",
       "      <td>0.024421</td>\n",
       "      <td>0.020256</td>\n",
       "      <td>-0.009521</td>\n",
       "      <td>-0.004127</td>\n",
       "      <td>-0.062645</td>\n",
       "      <td>1.000000</td>\n",
       "      <td>0.129216</td>\n",
       "      <td>0.089707</td>\n",
       "      <td>-0.075767</td>\n",
       "      <td>-0.093511</td>\n",
       "      <td>0.109559</td>\n",
       "      <td>-0.089534</td>\n",
       "      <td>0.063361</td>\n",
       "    </tr>\n",
       "    <tr>\n",
       "      <th>freetime</th>\n",
       "      <td>-0.004910</td>\n",
       "      <td>-0.019686</td>\n",
       "      <td>0.006841</td>\n",
       "      <td>0.000937</td>\n",
       "      <td>-0.068829</td>\n",
       "      <td>0.108995</td>\n",
       "      <td>0.129216</td>\n",
       "      <td>1.000000</td>\n",
       "      <td>0.346352</td>\n",
       "      <td>0.109904</td>\n",
       "      <td>0.120244</td>\n",
       "      <td>0.084526</td>\n",
       "      <td>-0.018716</td>\n",
       "      <td>-0.122705</td>\n",
       "    </tr>\n",
       "    <tr>\n",
       "      <th>goout</th>\n",
       "      <td>0.112805</td>\n",
       "      <td>0.009536</td>\n",
       "      <td>0.027690</td>\n",
       "      <td>0.057454</td>\n",
       "      <td>-0.075442</td>\n",
       "      <td>0.045078</td>\n",
       "      <td>0.089707</td>\n",
       "      <td>0.346352</td>\n",
       "      <td>1.000000</td>\n",
       "      <td>0.245126</td>\n",
       "      <td>0.388680</td>\n",
       "      <td>-0.015741</td>\n",
       "      <td>0.085374</td>\n",
       "      <td>-0.087641</td>\n",
       "    </tr>\n",
       "    <tr>\n",
       "      <th>Dalc</th>\n",
       "      <td>0.134768</td>\n",
       "      <td>-0.007018</td>\n",
       "      <td>0.000061</td>\n",
       "      <td>0.092824</td>\n",
       "      <td>-0.137585</td>\n",
       "      <td>0.105949</td>\n",
       "      <td>-0.075767</td>\n",
       "      <td>0.109904</td>\n",
       "      <td>0.245126</td>\n",
       "      <td>1.000000</td>\n",
       "      <td>0.616561</td>\n",
       "      <td>0.059067</td>\n",
       "      <td>0.172952</td>\n",
       "      <td>-0.204719</td>\n",
       "    </tr>\n",
       "    <tr>\n",
       "      <th>Walc</th>\n",
       "      <td>0.086357</td>\n",
       "      <td>-0.019766</td>\n",
       "      <td>0.038445</td>\n",
       "      <td>0.057007</td>\n",
       "      <td>-0.214925</td>\n",
       "      <td>0.082266</td>\n",
       "      <td>-0.093511</td>\n",
       "      <td>0.120244</td>\n",
       "      <td>0.388680</td>\n",
       "      <td>0.616561</td>\n",
       "      <td>1.000000</td>\n",
       "      <td>0.114988</td>\n",
       "      <td>0.156373</td>\n",
       "      <td>-0.176619</td>\n",
       "    </tr>\n",
       "    <tr>\n",
       "      <th>health</th>\n",
       "      <td>-0.008750</td>\n",
       "      <td>0.004614</td>\n",
       "      <td>0.044910</td>\n",
       "      <td>-0.048261</td>\n",
       "      <td>-0.056433</td>\n",
       "      <td>0.035588</td>\n",
       "      <td>0.109559</td>\n",
       "      <td>0.084526</td>\n",
       "      <td>-0.015741</td>\n",
       "      <td>0.059067</td>\n",
       "      <td>0.114988</td>\n",
       "      <td>1.000000</td>\n",
       "      <td>-0.030235</td>\n",
       "      <td>-0.098851</td>\n",
       "    </tr>\n",
       "    <tr>\n",
       "      <th>absences</th>\n",
       "      <td>0.149998</td>\n",
       "      <td>-0.008577</td>\n",
       "      <td>0.029859</td>\n",
       "      <td>-0.008149</td>\n",
       "      <td>-0.118389</td>\n",
       "      <td>0.122779</td>\n",
       "      <td>-0.089534</td>\n",
       "      <td>-0.018716</td>\n",
       "      <td>0.085374</td>\n",
       "      <td>0.172952</td>\n",
       "      <td>0.156373</td>\n",
       "      <td>-0.030235</td>\n",
       "      <td>1.000000</td>\n",
       "      <td>-0.091379</td>\n",
       "    </tr>\n",
       "    <tr>\n",
       "      <th>G3</th>\n",
       "      <td>-0.106505</td>\n",
       "      <td>0.240151</td>\n",
       "      <td>0.211800</td>\n",
       "      <td>-0.127173</td>\n",
       "      <td>0.249789</td>\n",
       "      <td>-0.393316</td>\n",
       "      <td>0.063361</td>\n",
       "      <td>-0.122705</td>\n",
       "      <td>-0.087641</td>\n",
       "      <td>-0.204719</td>\n",
       "      <td>-0.176619</td>\n",
       "      <td>-0.098851</td>\n",
       "      <td>-0.091379</td>\n",
       "      <td>1.000000</td>\n",
       "    </tr>\n",
       "  </tbody>\n",
       "</table>\n",
       "</div>"
      ],
      "text/plain": [
       "                 age      Medu      Fedu  traveltime  studytime  failures  \\\n",
       "age         1.000000 -0.107832 -0.121050    0.034490  -0.008415  0.319968   \n",
       "Medu       -0.107832  1.000000  0.647477   -0.265079   0.097006 -0.172210   \n",
       "Fedu       -0.121050  0.647477  1.000000   -0.208288   0.050400 -0.165915   \n",
       "traveltime  0.034490 -0.265079 -0.208288    1.000000  -0.063154  0.097730   \n",
       "studytime  -0.008415  0.097006  0.050400   -0.063154   1.000000 -0.147441   \n",
       "failures    0.319968 -0.172210 -0.165915    0.097730  -0.147441  1.000000   \n",
       "famrel     -0.020559  0.024421  0.020256   -0.009521  -0.004127 -0.062645   \n",
       "freetime   -0.004910 -0.019686  0.006841    0.000937  -0.068829  0.108995   \n",
       "goout       0.112805  0.009536  0.027690    0.057454  -0.075442  0.045078   \n",
       "Dalc        0.134768 -0.007018  0.000061    0.092824  -0.137585  0.105949   \n",
       "Walc        0.086357 -0.019766  0.038445    0.057007  -0.214925  0.082266   \n",
       "health     -0.008750  0.004614  0.044910   -0.048261  -0.056433  0.035588   \n",
       "absences    0.149998 -0.008577  0.029859   -0.008149  -0.118389  0.122779   \n",
       "G3         -0.106505  0.240151  0.211800   -0.127173   0.249789 -0.393316   \n",
       "\n",
       "              famrel  freetime     goout      Dalc      Walc    health  \\\n",
       "age        -0.020559 -0.004910  0.112805  0.134768  0.086357 -0.008750   \n",
       "Medu        0.024421 -0.019686  0.009536 -0.007018 -0.019766  0.004614   \n",
       "Fedu        0.020256  0.006841  0.027690  0.000061  0.038445  0.044910   \n",
       "traveltime -0.009521  0.000937  0.057454  0.092824  0.057007 -0.048261   \n",
       "studytime  -0.004127 -0.068829 -0.075442 -0.137585 -0.214925 -0.056433   \n",
       "failures   -0.062645  0.108995  0.045078  0.105949  0.082266  0.035588   \n",
       "famrel      1.000000  0.129216  0.089707 -0.075767 -0.093511  0.109559   \n",
       "freetime    0.129216  1.000000  0.346352  0.109904  0.120244  0.084526   \n",
       "goout       0.089707  0.346352  1.000000  0.245126  0.388680 -0.015741   \n",
       "Dalc       -0.075767  0.109904  0.245126  1.000000  0.616561  0.059067   \n",
       "Walc       -0.093511  0.120244  0.388680  0.616561  1.000000  0.114988   \n",
       "health      0.109559  0.084526 -0.015741  0.059067  0.114988  1.000000   \n",
       "absences   -0.089534 -0.018716  0.085374  0.172952  0.156373 -0.030235   \n",
       "G3          0.063361 -0.122705 -0.087641 -0.204719 -0.176619 -0.098851   \n",
       "\n",
       "            absences        G3  \n",
       "age         0.149998 -0.106505  \n",
       "Medu       -0.008577  0.240151  \n",
       "Fedu        0.029859  0.211800  \n",
       "traveltime -0.008149 -0.127173  \n",
       "studytime  -0.118389  0.249789  \n",
       "failures    0.122779 -0.393316  \n",
       "famrel     -0.089534  0.063361  \n",
       "freetime   -0.018716 -0.122705  \n",
       "goout       0.085374 -0.087641  \n",
       "Dalc        0.172952 -0.204719  \n",
       "Walc        0.156373 -0.176619  \n",
       "health     -0.030235 -0.098851  \n",
       "absences    1.000000 -0.091379  \n",
       "G3         -0.091379  1.000000  "
      ]
     },
     "execution_count": 130,
     "metadata": {},
     "output_type": "execute_result"
    }
   ],
   "source": [
    "df.corr()"
   ]
  },
  {
   "cell_type": "code",
   "execution_count": 131,
   "metadata": {},
   "outputs": [
    {
     "data": {
      "text/plain": [
       "<matplotlib.axes._subplots.AxesSubplot at 0x1e61397cbe0>"
      ]
     },
     "execution_count": 131,
     "metadata": {},
     "output_type": "execute_result"
    },
    {
     "data": {
      "image/png": "[encoded data removed]",
      "text/plain": [
       "<Figure size 1152x360 with 2 Axes>"
      ]
     },
     "metadata": {
      "needs_background": "light"
     },
     "output_type": "display_data"
    }
   ],
   "source": [
    "plt.figure(figsize = (16,5))\n",
    "sns.heatmap(df.corr(), cmap = 'YlGnBu', annot = True)"
   ]
  },
  {
   "cell_type": "markdown",
   "metadata": {},
   "source": [
    "We see that the highest correlation of 'G3' is with 'Medu', 'Fedu' and 'studytime' "
   ]
  },
  {
   "cell_type": "code",
   "execution_count": 132,
   "metadata": {},
   "outputs": [],
   "source": [
    "def categorize(col):\n",
    "    if col >= 18:\n",
    "        return 'Excel'\n",
    "    elif col >= 14 and col < 18:\n",
    "        return 'Satisfactory'\n",
    "    else:\n",
    "        return 'Unsatisfactory'"
   ]
  },
  {
   "cell_type": "markdown",
   "metadata": {},
   "source": [
    "We categorize the Grades 'G3' as follows: G3>=18 --> \"Excel\", 14<=G3<18 --> \"Satisfactory\", and G3<14 --> \"Unsatisfactory\""
   ]
  },
  {
   "cell_type": "code",
   "execution_count": 133,
   "metadata": {},
   "outputs": [],
   "source": [
    "df['G3'] = df['G3'].apply(lambda x: categorize(x))"
   ]
  },
  {
   "cell_type": "code",
   "execution_count": 134,
   "metadata": {},
   "outputs": [
    {
     "data": {
      "text/plain": [
       "0    Unsatisfactory\n",
       "1    Unsatisfactory\n",
       "2    Unsatisfactory\n",
       "3      Satisfactory\n",
       "4    Unsatisfactory\n",
       "Name: G3, dtype: object"
      ]
     },
     "execution_count": 134,
     "metadata": {},
     "output_type": "execute_result"
    }
   ],
   "source": [
    "df.head()['G3']"
   ]
  },
  {
   "cell_type": "code",
   "execution_count": 135,
   "metadata": {},
   "outputs": [
    {
     "data": {
      "text/plain": [
       "<matplotlib.axes._subplots.AxesSubplot at 0x1e61429dac8>"
      ]
     },
     "execution_count": 135,
     "metadata": {},
     "output_type": "execute_result"
    },
    {
     "data": {
      "image/png": "[encoded data removed]",
      "text/plain": [
       "<Figure size 1152x360 with 1 Axes>"
      ]
     },
     "metadata": {
      "needs_background": "light"
     },
     "output_type": "display_data"
    }
   ],
   "source": [
    "plt.figure(figsize = (16,5))\n",
    "sns.countplot(df['studytime'], hue = df['G3'])"
   ]
  },
  {
   "cell_type": "markdown",
   "metadata": {},
   "source": [
    "*This plot shows that the data has more 'Unsatisfactory' data. <br>\n",
    "*We also notice that as studytime increases from 1hr to 4hrs, the 'Unsatisfactory' count decreases. <br> \n",
    "*The highest count of 'excel' comes from studytime of 2hrs. "
   ]
  },
  {
   "cell_type": "code",
   "execution_count": 136,
   "metadata": {},
   "outputs": [
    {
     "data": {
      "text/plain": [
       "<matplotlib.axes._subplots.AxesSubplot at 0x1e613c570b8>"
      ]
     },
     "execution_count": 136,
     "metadata": {},
     "output_type": "execute_result"
    },
    {
     "data": {
      "image/png": "[encoded data removed]",
      "text/plain": [
       "<Figure size 1152x360 with 1 Axes>"
      ]
     },
     "metadata": {
      "needs_background": "light"
     },
     "output_type": "display_data"
    }
   ],
   "source": [
    "plt.figure(figsize = (16,5))\n",
    "sns.countplot(df['absences'], hue = df['G3'])"
   ]
  },
  {
   "cell_type": "markdown",
   "metadata": {},
   "source": [
    "We should notice that even with 0 absences, the \"Unsatisfactory\" count is more than 150"
   ]
  },
  {
   "cell_type": "markdown",
   "metadata": {},
   "source": [
    "#### Highlights from data visualization:\n",
    "From the above graphs we see that the data in the dataset are not balanced. We have a lot more data for ‘Unsatisfactory’ in comparison to ‘Excel.’ This might be a possible cause of bias in our model as we are using only one factor for classification.  "
   ]
  },
  {
   "cell_type": "markdown",
   "metadata": {},
   "source": [
    "## Train test split"
   ]
  },
  {
   "cell_type": "code",
   "execution_count": 137,
   "metadata": {},
   "outputs": [],
   "source": [
    "from sklearn.model_selection import train_test_split"
   ]
  },
  {
   "cell_type": "code",
   "execution_count": 138,
   "metadata": {},
   "outputs": [],
   "source": [
    "y = df['G3']\n",
    "X = df.drop(columns = ['G3'], axis = 1)\n",
    "X_train, X_test, y_train, y_test = train_test_split(X, y, random_state=3)"
   ]
  },
  {
   "cell_type": "code",
   "execution_count": 139,
   "metadata": {},
   "outputs": [],
   "source": [
    "# Convert to numpy array as the OneR algorithm requires arrays\n",
    "X_train = X_train.to_numpy()\n",
    "X_test = X_test.to_numpy()\n",
    "y_train = y_train.to_numpy()\n",
    "y_test = y_test.to_numpy()"
   ]
  },
  {
   "cell_type": "markdown",
   "metadata": {},
   "source": [
    "## OneR algorithm"
   ]
  },
  {
   "cell_type": "code",
   "execution_count": 140,
   "metadata": {},
   "outputs": [],
   "source": [
    "from collections import defaultdict\n",
    "from operator import itemgetter"
   ]
  },
  {
   "cell_type": "code",
   "execution_count": 141,
   "metadata": {},
   "outputs": [],
   "source": [
    "def train_feature_value(X,y_true,feature,value):\n",
    "    class_counts = defaultdict(int)        # Dictionary for frequency of predictions\n",
    "    for sample, y in zip(X, y_true):\n",
    "        if sample[feature] == value:\n",
    "            class_counts[y] += 1\n",
    "    \n",
    "    # Sorting the best one by highest first\n",
    "    sorted_class_counts = sorted(class_counts.items(), key=itemgetter(1), reverse=True)\n",
    "    most_frequent_class = sorted_class_counts[0][0]\n",
    "    n_samples = X.shape[1]\n",
    "    \n",
    "    # Error in OneR is the number of samples that do not classify as most frequent class\n",
    "    error = sum([class_count for class_value, class_count in class_counts.items()\n",
    "                 if class_value != most_frequent_class])\n",
    "    return most_frequent_class, error"
   ]
  },
  {
   "cell_type": "code",
   "execution_count": 142,
   "metadata": {},
   "outputs": [],
   "source": [
    "def train(X, y_true, feature):\n",
    "    n_samples, n_features = X.shape\n",
    "    values = set(X[:,feature])           #Gets unique values of column \n",
    "    predictors = dict()\n",
    "    errors = []\n",
    "    for current_value in values:\n",
    "        most_frequent_class, error = train_feature_value(X, y_true, feature, current_value)\n",
    "        predictors[current_value] = most_frequent_class\n",
    "        errors.append(error)\n",
    "    total_error = sum(errors)            #Total sum of errors\n",
    "    return predictors, total_error"
   ]
  },
  {
   "cell_type": "code",
   "execution_count": 143,
   "metadata": {},
   "outputs": [
    {
     "name": "stdout",
     "output_type": "stream",
     "text": [
      "The best model is based on variable 29 and has error 138.00\n"
     ]
    }
   ],
   "source": [
    "# Computing for all the predictors \n",
    "all_predictors = {variable: train(X_train, y_train, variable) for variable in range(X_train.shape[1])}\n",
    "errors = {variable: error for variable, (mapping, error) in all_predictors.items()}\n",
    "\n",
    "# Sorting by error\n",
    "best_variable, best_error = sorted(errors.items(), key=itemgetter(1))[0]\n",
    "print(\"The best model is based on variable {0} and has error {1:.2f}\".format(best_variable, best_error))\n",
    "\n",
    "model = {'variable': best_variable,\n",
    "         'predictor': all_predictors[best_variable][0]}"
   ]
  },
  {
   "cell_type": "code",
   "execution_count": 144,
   "metadata": {},
   "outputs": [],
   "source": [
    "# Predicts using the model that we created and the key value assigned to it\n",
    "def predict(X_test, model):\n",
    "    variable = model['variable']\n",
    "    predictor = model['predictor']    \n",
    "    y_predicted = np.array([predictor[int(sample[variable])] for sample in X_test])\n",
    "    return np.array(y_predicted)"
   ]
  },
  {
   "cell_type": "code",
   "execution_count": 145,
   "metadata": {},
   "outputs": [],
   "source": [
    "y_predicted = predict(X_test, model)"
   ]
  },
  {
   "cell_type": "markdown",
   "metadata": {},
   "source": [
    "## Accuracy and Classification Report"
   ]
  },
  {
   "cell_type": "code",
   "execution_count": 146,
   "metadata": {},
   "outputs": [
    {
     "name": "stdout",
     "output_type": "stream",
     "text": [
      "The test accuracy is 68.1%\n"
     ]
    }
   ],
   "source": [
    "accuracy = np.mean(y_predicted == y_test) * 100\n",
    "print(\"The test accuracy is {:.1f}%\".format(accuracy))"
   ]
  },
  {
   "cell_type": "code",
   "execution_count": 147,
   "metadata": {},
   "outputs": [],
   "source": [
    "from sklearn.metrics import classification_report"
   ]
  },
  {
   "cell_type": "code",
   "execution_count": 148,
   "metadata": {},
   "outputs": [
    {
     "name": "stdout",
     "output_type": "stream",
     "text": [
      "                precision    recall  f1-score   support\n",
      "\n",
      "         Excel       0.00      0.00      0.00         3\n",
      "  Satisfactory       0.50      0.02      0.04        49\n",
      "Unsatisfactory       0.68      0.99      0.81       111\n",
      "\n",
      "      accuracy                           0.68       163\n",
      "     macro avg       0.39      0.34      0.28       163\n",
      "  weighted avg       0.62      0.68      0.56       163\n",
      "\n"
     ]
    },
    {
     "name": "stderr",
     "output_type": "stream",
     "text": [
      "C:\\ProgramData\\Anaconda3\\lib\\site-packages\\sklearn\\metrics\\_classification.py:1272: UndefinedMetricWarning: Precision and F-score are ill-defined and being set to 0.0 in labels with no predicted samples. Use `zero_division` parameter to control this behavior.\n",
      "  _warn_prf(average, modifier, msg_start, len(result))\n"
     ]
    }
   ],
   "source": [
    "print(classification_report(y_test, y_predicted))"
   ]
  },
  {
   "cell_type": "markdown",
   "metadata": {},
   "source": [
    "## Predicting data"
   ]
  },
  {
   "cell_type": "code",
   "execution_count": 149,
   "metadata": {},
   "outputs": [],
   "source": [
    "bob = pd.read_csv(\"bob.csv\")"
   ]
  },
  {
   "cell_type": "code",
   "execution_count": 150,
   "metadata": {},
   "outputs": [
    {
     "data": {
      "text/html": [
       "<div>\n",
       "<style scoped>\n",
       "    .dataframe tbody tr th:only-of-type {\n",
       "        vertical-align: middle;\n",
       "    }\n",
       "\n",
       "    .dataframe tbody tr th {\n",
       "        vertical-align: top;\n",
       "    }\n",
       "\n",
       "    .dataframe thead th {\n",
       "        text-align: right;\n",
       "    }\n",
       "</style>\n",
       "<table border=\"1\" class=\"dataframe\">\n",
       "  <thead>\n",
       "    <tr style=\"text-align: right;\">\n",
       "      <th></th>\n",
       "      <th>school</th>\n",
       "      <th>sex</th>\n",
       "      <th>age</th>\n",
       "      <th>address</th>\n",
       "      <th>famsize</th>\n",
       "      <th>Pstatus</th>\n",
       "      <th>Medu</th>\n",
       "      <th>Fedu</th>\n",
       "      <th>Mjob</th>\n",
       "      <th>Fjob</th>\n",
       "      <th>...</th>\n",
       "      <th>higher</th>\n",
       "      <th>internet</th>\n",
       "      <th>romantic</th>\n",
       "      <th>famrel</th>\n",
       "      <th>freetime</th>\n",
       "      <th>goout</th>\n",
       "      <th>Dalc</th>\n",
       "      <th>Walc</th>\n",
       "      <th>health</th>\n",
       "      <th>absences</th>\n",
       "    </tr>\n",
       "  </thead>\n",
       "  <tbody>\n",
       "    <tr>\n",
       "      <th>0</th>\n",
       "      <td>MS</td>\n",
       "      <td>M</td>\n",
       "      <td>18</td>\n",
       "      <td>R</td>\n",
       "      <td>GT3</td>\n",
       "      <td>T</td>\n",
       "      <td>1</td>\n",
       "      <td>1</td>\n",
       "      <td>other</td>\n",
       "      <td>other</td>\n",
       "      <td>...</td>\n",
       "      <td>yes</td>\n",
       "      <td>yes</td>\n",
       "      <td>no</td>\n",
       "      <td>4</td>\n",
       "      <td>3</td>\n",
       "      <td>2</td>\n",
       "      <td>1</td>\n",
       "      <td>2</td>\n",
       "      <td>4</td>\n",
       "      <td>0</td>\n",
       "    </tr>\n",
       "  </tbody>\n",
       "</table>\n",
       "<p>1 rows × 30 columns</p>\n",
       "</div>"
      ],
      "text/plain": [
       "  school sex  age address famsize Pstatus  Medu  Fedu   Mjob   Fjob  ...  \\\n",
       "0     MS   M   18       R     GT3       T     1     1  other  other  ...   \n",
       "\n",
       "  higher internet  romantic  famrel  freetime goout Dalc Walc health absences  \n",
       "0    yes      yes        no       4         3     2    1    2      4        0  \n",
       "\n",
       "[1 rows x 30 columns]"
      ]
     },
     "execution_count": 150,
     "metadata": {},
     "output_type": "execute_result"
    }
   ],
   "source": [
    "bob.head()                              #New data for prediction"
   ]
  },
  {
   "cell_type": "code",
   "execution_count": 151,
   "metadata": {},
   "outputs": [
    {
     "name": "stdout",
     "output_type": "stream",
     "text": [
      "<class 'pandas.core.frame.DataFrame'>\n",
      "RangeIndex: 1 entries, 0 to 0\n",
      "Data columns (total 30 columns):\n",
      " #   Column      Non-Null Count  Dtype \n",
      "---  ------      --------------  ----- \n",
      " 0   school      1 non-null      object\n",
      " 1   sex         1 non-null      object\n",
      " 2   age         1 non-null      int64 \n",
      " 3   address     1 non-null      object\n",
      " 4   famsize     1 non-null      object\n",
      " 5   Pstatus     1 non-null      object\n",
      " 6   Medu        1 non-null      int64 \n",
      " 7   Fedu        1 non-null      int64 \n",
      " 8   Mjob        1 non-null      object\n",
      " 9   Fjob        1 non-null      object\n",
      " 10  reason      1 non-null      object\n",
      " 11  guardian    1 non-null      object\n",
      " 12  traveltime  1 non-null      int64 \n",
      " 13  studytime   1 non-null      int64 \n",
      " 14  failures    1 non-null      int64 \n",
      " 15  schoolsup   1 non-null      object\n",
      " 16  famsup      1 non-null      object\n",
      " 17  paid        1 non-null      object\n",
      " 18  activities  1 non-null      object\n",
      " 19  nursery     1 non-null      object\n",
      " 20  higher      1 non-null      object\n",
      " 21  internet    1 non-null      object\n",
      " 22  romantic    1 non-null      object\n",
      " 23  famrel      1 non-null      int64 \n",
      " 24  freetime    1 non-null      int64 \n",
      " 25  goout       1 non-null      int64 \n",
      " 26  Dalc        1 non-null      int64 \n",
      " 27  Walc        1 non-null      int64 \n",
      " 28  health      1 non-null      int64 \n",
      " 29  absences    1 non-null      int64 \n",
      "dtypes: int64(13), object(17)\n",
      "memory usage: 368.0+ bytes\n"
     ]
    }
   ],
   "source": [
    "bob.info()"
   ]
  },
  {
   "cell_type": "code",
   "execution_count": 152,
   "metadata": {},
   "outputs": [],
   "source": [
    "bob = bob.to_numpy()"
   ]
  },
  {
   "cell_type": "code",
   "execution_count": 153,
   "metadata": {},
   "outputs": [
    {
     "name": "stdout",
     "output_type": "stream",
     "text": [
      "['Unsatisfactory']\n"
     ]
    }
   ],
   "source": [
    "bob_predicted = predict(bob,model)\n",
    "print(bob_predicted)"
   ]
  },
  {
   "cell_type": "markdown",
   "metadata": {},
   "source": [
    "It looks like Bob was classified to be 'Unsatisfactory' from our OneR algorithm which used 'absences' as the best variable. "
   ]
  },
  {
   "cell_type": "code",
   "execution_count": null,
   "metadata": {},
   "outputs": [],
   "source": []
  }
 ],
 "metadata": {
  "kernelspec": {
   "display_name": "Python 3",
   "language": "python",
   "name": "python3"
  },
  "language_info": {
   "codemirror_mode": {
    "name": "ipython",
    "version": 3
   },
   "file_extension": ".py",
   "mimetype": "text/x-python",
   "name": "python",
   "nbconvert_exporter": "python",
   "pygments_lexer": "ipython3",
   "version": "3.7.3"
  }
 },
 "nbformat": 4,
 "nbformat_minor": 4
}
